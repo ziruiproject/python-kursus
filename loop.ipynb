{
 "cells": [
  {
   "cell_type": "code",
   "execution_count": 14,
   "metadata": {},
   "outputs": [
    {
     "name": "stdout",
     "output_type": "stream",
     "text": [
      "buku\n",
      "pulpen\n",
      "penggaris\n",
      "b\n",
      "a\n",
      "n\n",
      "a\n",
      "n\n",
      "a\n",
      "1\n",
      "2\n",
      "3\n",
      "1\n",
      "2\n",
      "3\n",
      "id\n",
      "barang\n",
      "1\n",
      "2\n",
      "3\n",
      "4\n",
      "5\n",
      "6\n",
      "7\n",
      "8\n",
      "9\n",
      "10\n"
     ]
    }
   ],
   "source": [
    "# FOR LOOP\n",
    "# WHILE LOOP\n",
    "\n",
    "# For\n",
    "list = [\"buku\", \"pulpen\", \"penggaris\"]\n",
    "set = {1, 2, 3}\n",
    "tuple = (1, 2, 3)\n",
    "dict = {\n",
    "    \"id\" : [1, 2, 3, 4, 5],\n",
    "    \"barang\" : [\"buku\", \"pensil\", \"penghapus\", \"penggaris\", \"roti\"]\n",
    "}\n",
    "\n",
    "for i in list:\n",
    "    print(i)\n",
    "    \n",
    "for i in \"banana\":\n",
    "    print(i)\n",
    "    \n",
    "for i in set:\n",
    "    print(i)\n",
    "    \n",
    "for i in tuple:\n",
    "    print(i)\n",
    "    \n",
    "for i in dict:\n",
    "    print(i)\n",
    "    \n",
    "\n",
    "# Mengiterasi suatu interval\n",
    "\n",
    "# list = [1, 2, 3, ,4 ,5, 6, 10000] -> dari pada gini\n",
    "# Mending yg ini\n",
    "for i in range(1, 11):\n",
    "    print(i)\n",
    "    \n",
    "\n",
    "# Iterable -> String, List dkk, \n",
    "\n",
    "# print(list[0])\n",
    "# print(list[1])\n",
    "# print(list[2])\n",
    "# print(list[3])\n",
    "# print(list[4])"
   ]
  },
  {
   "cell_type": "code",
   "execution_count": 16,
   "metadata": {},
   "outputs": [
    {
     "name": "stdout",
     "output_type": "stream",
     "text": [
      "buku\n",
      "pulpen\n"
     ]
    }
   ],
   "source": [
    "# Break\n",
    "# Memberhentikan Loop\n",
    "\n",
    "list = [\"buku\", \"pulpen\", \"penggaris\"]\n",
    "for i in list:\n",
    "    print(i)\n",
    "    if i == \"pulpen\":\n",
    "        break"
   ]
  },
  {
   "cell_type": "code",
   "execution_count": 32,
   "metadata": {},
   "outputs": [
    {
     "name": "stdout",
     "output_type": "stream",
     "text": [
      "buku\n",
      "penggaris\n",
      "2\n",
      "4\n",
      "6\n",
      "8\n",
      "10\n",
      "12\n",
      "14\n",
      "16\n",
      "18\n",
      "20\n",
      "22\n",
      "24\n",
      "26\n",
      "28\n",
      "30\n",
      "32\n",
      "34\n",
      "36\n",
      "38\n",
      "40\n",
      "42\n",
      "44\n",
      "46\n",
      "48\n",
      "50\n",
      "52\n",
      "54\n",
      "56\n",
      "58\n",
      "60\n",
      "62\n",
      "64\n",
      "66\n",
      "68\n",
      "70\n",
      "72\n",
      "74\n",
      "76\n",
      "78\n",
      "80\n",
      "82\n",
      "84\n",
      "86\n",
      "88\n",
      "90\n",
      "92\n",
      "94\n",
      "96\n",
      "98\n",
      "100\n"
     ]
    }
   ],
   "source": [
    "# Continue\n",
    "\n",
    "list = [\"buku\", \"pulpen\", \"penggaris\"]\n",
    "\n",
    "for i in list:\n",
    "    if i == \"pulpen\":\n",
    "        continue # Skip ke perulangan berikutnya\n",
    "    print(i) # Akan di ignore kalau ketemu continue\n",
    "    \n",
    "# Menampilkan bilangan genap saja\n",
    "list = range(1, 101)\n",
    "for i in list:\n",
    "    if i % 2 == 0: # Kalau habis dibagi 2\n",
    "        print(i)\n",
    "\n",
    "# Cara cepat / Alternatif\n",
    "# Step pada fungsi range\n",
    "for i in range(2, 101, 2):\n",
    "    print(i)"
   ]
  },
  {
   "cell_type": "code",
   "execution_count": 24,
   "metadata": {},
   "outputs": [],
   "source": [
    "for i, j in enumerate(list):\n",
    "    print(i, j)"
   ]
  },
  {
   "cell_type": "code",
   "execution_count": 22,
   "metadata": {},
   "outputs": [
    {
     "data": {
      "text/plain": [
       "<enumerate at 0x18c18fe6800>"
      ]
     },
     "execution_count": 22,
     "metadata": {},
     "output_type": "execute_result"
    }
   ],
   "source": []
  }
 ],
 "metadata": {
  "kernelspec": {
   "display_name": "Python 3",
   "language": "python",
   "name": "python3"
  },
  "language_info": {
   "codemirror_mode": {
    "name": "ipython",
    "version": 3
   },
   "file_extension": ".py",
   "mimetype": "text/x-python",
   "name": "python",
   "nbconvert_exporter": "python",
   "pygments_lexer": "ipython3",
   "version": "3.8.10"
  }
 },
 "nbformat": 4,
 "nbformat_minor": 2
}
