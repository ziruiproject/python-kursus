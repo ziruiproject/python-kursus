{
 "cells": [
  {
   "cell_type": "code",
   "execution_count": null,
   "metadata": {},
   "outputs": [],
   "source": [
    "# FOR LOOP\n",
    "# WHILE LOOP\n",
    "\n",
    "# For\n",
    "list = [\"buku\", \"pulpen\", \"penggaris\"]\n",
    "set = {1, 2, 3}\n",
    "tuple = (1, 2, 3)\n",
    "dict = {\n",
    "    \"id\" : [1, 2, 3, 4, 5],\n",
    "    \"barang\" : [\"buku\", \"pensil\", \"penghapus\", \"penggaris\", \"roti\"]\n",
    "}\n",
    "\n",
    "for i in list:\n",
    "    print(i)\n",
    "    \n",
    "for i in \"banana\":\n",
    "    print(i)\n",
    "    \n",
    "for i in set:\n",
    "    print(i)\n",
    "    \n",
    "for i in tuple:\n",
    "    print(i)\n",
    "    \n",
    "for i in dict:\n",
    "    print(i)\n",
    "    \n",
    "\n",
    "# Mengiterasi suatu interval\n",
    "\n",
    "# list = [1, 2, 3, ,4 ,5, 6, 10000] -> dari pada gini\n",
    "# Mending yg ini\n",
    "for i in range(1, 11):\n",
    "    print(i)\n",
    "    \n",
    "\n",
    "# Iterable -> String, List dkk, \n",
    "\n",
    "# print(list[0])\n",
    "# print(list[1])\n",
    "# print(list[2])\n",
    "# print(list[3])\n",
    "# print(list[4])"
   ]
  },
  {
   "cell_type": "code",
   "execution_count": null,
   "metadata": {},
   "outputs": [],
   "source": [
    "# Break\n",
    "# Memberhentikan Loop\n",
    "\n",
    "list = [\"buku\", \"pulpen\", \"penggaris\"]\n",
    "for i in list:\n",
    "    print(i)\n",
    "    if i == \"pulpen\":\n",
    "        break"
   ]
  },
  {
   "cell_type": "code",
   "execution_count": null,
   "metadata": {},
   "outputs": [],
   "source": [
    "# Continue\n",
    "\n",
    "list = [\"buku\", \"pulpen\", \"penggaris\"]\n",
    "\n",
    "for i in list:\n",
    "    if i == \"pulpen\":\n",
    "        continue # Skip ke perulangan berikutnya\n",
    "    print(i) # Akan di ignore kalau ketemu continue\n",
    "    \n",
    "# Menampilkan bilangan genap saja\n",
    "list = range(1, 101)\n",
    "for i in list:\n",
    "    if i % 2 == 0: # Kalau habis dibagi 2\n",
    "        print(i)\n",
    "\n",
    "# Cara cepat / Alternatif\n",
    "# Step pada fungsi range\n",
    "for i in range(2, 101, 2):\n",
    "    print(i)"
   ]
  },
  {
   "cell_type": "code",
   "execution_count": null,
   "metadata": {},
   "outputs": [],
   "source": [
    "for i, j in enumerate(list):\n",
    "    print(i, j)"
   ]
  },
  {
   "cell_type": "code",
   "execution_count": 4,
   "metadata": {},
   "outputs": [
    {
     "name": "stdout",
     "output_type": "stream",
     "text": [
      "halo\n",
      "halo\n",
      "halo\n",
      "halo\n",
      "halo\n"
     ]
    }
   ],
   "source": [
    "i = 1\n",
    "while i < 10:\n",
    "    print(\"halo\")\n",
    "    if i == 5:\n",
    "        break\n",
    "    i+=1"
   ]
  },
  {
   "cell_type": "code",
   "execution_count": 5,
   "metadata": {},
   "outputs": [],
   "source": [
    "while True:\n",
    "    user = input(\"Apakah anda ingin berhenti?\")\n",
    "    if user == \"yes\":\n",
    "        break"
   ]
  },
  {
   "cell_type": "code",
   "execution_count": null,
   "metadata": {},
   "outputs": [],
   "source": []
  }
 ],
 "metadata": {
  "kernelspec": {
   "display_name": "Python 3",
   "language": "python",
   "name": "python3"
  },
  "language_info": {
   "codemirror_mode": {
    "name": "ipython",
    "version": 3
   },
   "file_extension": ".py",
   "mimetype": "text/x-python",
   "name": "python",
   "nbconvert_exporter": "python",
   "pygments_lexer": "ipython3",
   "version": "3.8.10"
  }
 },
 "nbformat": 4,
 "nbformat_minor": 2
}
