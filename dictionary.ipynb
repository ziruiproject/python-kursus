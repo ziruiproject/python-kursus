{
 "cells": [
  {
   "cell_type": "code",
   "execution_count": 4,
   "metadata": {},
   "outputs": [
    {
     "data": {
      "text/plain": [
       "{'id': [1, 2, 3, 4, 5],\n",
       " 'barang': ['buku', 'pensil', 'penghapus', 'penggaris', 'roti']}"
      ]
     },
     "execution_count": 4,
     "metadata": {},
     "output_type": "execute_result"
    }
   ],
   "source": [
    "# Dictionary\n",
    "\n",
    "list = [1, 2, 3]\n",
    "set = {1, 2 ,3} # Tidak Berurutan\n",
    "# Berurutan DGN Key\n",
    "# Key : Value Pairs\n",
    "car = {\n",
    "    \"roda\" : 4,\n",
    "    \"pintu\" : 2,\n",
    "    \"merek\" : \"Toyota\",\n",
    "} \n",
    "\n",
    "# Akses Dictionary pakai Key\n",
    "car[\"roda\"]\n",
    "\n",
    "# Mengubah Value Dictionary\n",
    "car[\"roda\"] = 8\n",
    "\n",
    "data = {\n",
    "    \"id\" : [1, 2, 3, 4, 5],\n",
    "    \"barang\" : [\"buku\", \"pensil\", \"penghapus\", \"penggaris\", \"roti\"]\n",
    "}\n",
    "\n",
    "data\n"
   ]
  }
 ],
 "metadata": {
  "kernelspec": {
   "display_name": "Python 3",
   "language": "python",
   "name": "python3"
  },
  "language_info": {
   "codemirror_mode": {
    "name": "ipython",
    "version": 3
   },
   "file_extension": ".py",
   "mimetype": "text/x-python",
   "name": "python",
   "nbconvert_exporter": "python",
   "pygments_lexer": "ipython3",
   "version": "3.8.10"
  }
 },
 "nbformat": 4,
 "nbformat_minor": 2
}
