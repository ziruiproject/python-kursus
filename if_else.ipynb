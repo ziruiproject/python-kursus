{
 "cells": [
  {
   "cell_type": "code",
   "execution_count": 11,
   "metadata": {},
   "outputs": [
    {
     "name": "stdout",
     "output_type": "stream",
     "text": [
      "lulus\n",
      "lulus\n",
      "Anda lulus\n",
      "A\n",
      "B\n"
     ]
    }
   ],
   "source": [
    "nilai = 83\n",
    "matkul = \"pemrograman\"\n",
    "\n",
    "# NILAI >= 85 = A\n",
    "# NILAI >= 75 DAN < 85 = B\n",
    "# SELAIN ITU C\n",
    "\n",
    "# KONDISI HANYA 1\n",
    "\n",
    "if nilai >= 75:\n",
    "    print(\"lulus\")\n",
    "print(\"lulus\") # BUKAN TERMASUK IF\n",
    "\n",
    "# KONDISI HANYA 2\n",
    "\n",
    "if nilai >= 75:\n",
    "    print(\"Anda lulus\")\n",
    "else:\n",
    "    print(\"Anda tidak lulus\")\n",
    "\n",
    "# KONDISI LEBIH DARI 2\n",
    "    \n",
    "if nilai >= 85:\n",
    "    print(\"A\")\n",
    "elif nilai >= 75 and nilai < 85:\n",
    "    if matkul == \"pemrograman\":\n",
    "        print(\"A\")\n",
    "    print(\"B\")\n",
    "else:\n",
    "    print(\"C\")\n",
    "    \n"
   ]
  }
 ],
 "metadata": {
  "kernelspec": {
   "display_name": "Python 3",
   "language": "python",
   "name": "python3"
  },
  "language_info": {
   "codemirror_mode": {
    "name": "ipython",
    "version": 3
   },
   "file_extension": ".py",
   "mimetype": "text/x-python",
   "name": "python",
   "nbconvert_exporter": "python",
   "pygments_lexer": "ipython3",
   "version": "3.8.10"
  }
 },
 "nbformat": 4,
 "nbformat_minor": 2
}
