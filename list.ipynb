{
 "cells": [
  {
   "cell_type": "code",
   "execution_count": 51,
   "metadata": {},
   "outputs": [
    {
     "name": "stdout",
     "output_type": "stream",
     "text": [
      "['buku', 'pulpen', 'pensil', 'kunci']\n",
      "['buku', 'pulpen', 'pensil']\n",
      "['buku', 'pulpen', 'pensil', 'penghapus']\n",
      "['buku', 'pulpen', 'pensil', 'penghapus', 'kertas']\n",
      "Sebelum diurutkan\n",
      "['buku', 'pulpen', 'penghapus', 'kertas']\n",
      "Setelah diurutkan\n",
      "['buku', 'kertas', 'penghapus', 'pulpen']\n",
      "[67, 43, 21, 6, 5, 5, 3, 2, 1]\n",
      "[1, 2, 3, 5, 5, 6, 21, 43, 67]\n"
     ]
    },
    {
     "data": {
      "text/plain": [
       "False"
      ]
     },
     "execution_count": 51,
     "metadata": {},
     "output_type": "execute_result"
    }
   ],
   "source": [
    "benda = [\"buku\", \"pulpen\", \"pensil\", \"kunci\"]\n",
    "angka = [1,2,5,67,5,3,21,6,43]\n",
    "campuran = [1, \"satu\", 2, \"dua\"]\n",
    "\n",
    "print(benda)\n",
    "\n",
    "# INDEX\n",
    "benda[0]\n",
    "benda[1]\n",
    "\n",
    "# Slicing\n",
    "print(benda[:3])\n",
    "\n",
    "# Kunci diganti penghapus\n",
    "benda[-1] = \"penghapus\"\n",
    "print(benda)\n",
    "\n",
    "# Menambah item\n",
    "benda.append(\"kertas\")\n",
    "print(benda)\n",
    "\n",
    "print(\"Sebelum diurutkan\")\n",
    "# Menghapus item dengan index\n",
    "benda.pop(2)\n",
    "print(benda)\n",
    "\n",
    "len(benda)\n",
    "\n",
    "print(\"Setelah diurutkan\")\n",
    "# Mengurutkan\n",
    "benda.sort()\n",
    "print(benda)\n",
    "\n",
    "# Mengurutkan terbalik\n",
    "angka.sort(reverse=True)\n",
    "print(angka)\n",
    "\n",
    "# Mencari posisi item\n",
    "benda.index(\"buku\")\n",
    "\n",
    "# Menghapus item berdasarkan nama / value\n",
    "benda.remove(\"buku\")\n",
    "benda\n",
    "\n",
    "# Membalik list\n",
    "angka.reverse()\n",
    "print(angka)\n",
    "\n",
    "\"buku\" in benda"
   ]
  }
 ],
 "metadata": {
  "kernelspec": {
   "display_name": "Python 3",
   "language": "python",
   "name": "python3"
  },
  "language_info": {
   "codemirror_mode": {
    "name": "ipython",
    "version": 3
   },
   "file_extension": ".py",
   "mimetype": "text/x-python",
   "name": "python",
   "nbconvert_exporter": "python",
   "pygments_lexer": "ipython3",
   "version": "3.8.10"
  }
 },
 "nbformat": 4,
 "nbformat_minor": 2
}
