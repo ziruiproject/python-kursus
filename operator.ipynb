{
 "cells": [
  {
   "cell_type": "code",
   "execution_count": 7,
   "metadata": {},
   "outputs": [
    {
     "data": {
      "text/plain": [
       "True"
      ]
     },
     "execution_count": 7,
     "metadata": {},
     "output_type": "execute_result"
    }
   ],
   "source": [
    "# COMPARISON OPERATOR\n",
    "\n",
    "# MEMBANDINGKAN APAKAH NILAI SAMA PERSIS\n",
    "# ==\n",
    "3 == 4\n",
    "\n",
    "# MEMBANDINGKAN APAKAH NILAI TIDAK SAMA\n",
    "# !=\n",
    "3 != 4\n",
    "\n",
    "# LEBIH BESAR\n",
    "3 > 4\n",
    "\n",
    "# KURANG DARI\n",
    "3 < 4\n",
    "\n",
    "# LEBIH DARI SAMA DENGAN\n",
    "3 >= 4\n",
    "\n",
    "# KURANG DARI SAMA DENGAN\n",
    "3 <= 4"
   ]
  },
  {
   "cell_type": "code",
   "execution_count": 15,
   "metadata": {},
   "outputs": [
    {
     "data": {
      "text/plain": [
       "True"
      ]
     },
     "execution_count": 15,
     "metadata": {},
     "output_type": "execute_result"
    }
   ],
   "source": [
    "# OPERATOR LOGIKA\n",
    "\n",
    "# OPERATOR AND \n",
    "# BENAR JIKA KEDUANYA BENAR\n",
    "False and True # False\n",
    "True and False  # False\n",
    "True and True  # True\n",
    "False and False  # False\n",
    "\n",
    "# OPERATOR OR\n",
    "# BENAR JIKA SALAH SATU ATAU KEDUANYA BENAR\n",
    "False or False # False\n",
    "True or False # True\n",
    "False or True # True\n",
    "True or True # True\n",
    "\n",
    "# OPERATOR NOT\n",
    "# NEGASI / KEBALIKAN\n",
    "\n",
    "not True\n",
    "not False "
   ]
  },
  {
   "cell_type": "code",
   "execution_count": 19,
   "metadata": {},
   "outputs": [
    {
     "data": {
      "text/plain": [
       "False"
      ]
     },
     "execution_count": 19,
     "metadata": {},
     "output_type": "execute_result"
    }
   ],
   "source": [
    "panjang = 0\n",
    "lebar = 0\n",
    "panjang > 0 and lebar > 0\n",
    "True and True\n",
    "panjang > 0 or lebar > 0\n",
    "False or False"
   ]
  },
  {
   "cell_type": "code",
   "execution_count": 30,
   "metadata": {},
   "outputs": [
    {
     "data": {
      "text/plain": [
       "2187"
      ]
     },
     "execution_count": 30,
     "metadata": {},
     "output_type": "execute_result"
    }
   ],
   "source": [
    "nilai = 3\n",
    "# nilai = nilai ** 7\n",
    "# nilai = 3 + 7\n",
    "\n",
    "nilai **= 7\n",
    "\n",
    "nilai"
   ]
  },
  {
   "cell_type": "code",
   "execution_count": null,
   "metadata": {},
   "outputs": [],
   "source": [
    "MACBOOK M1 2020 >\n",
    "\n",
    "MINIMAL < 10\n",
    "HP, Asus\n",
    "PROSESOR 4 CORE\n",
    "RAM 8 TAPI BISA DITAMBAH JADI 16\n",
    "STORAGE 512GB NVME"
   ]
  }
 ],
 "metadata": {
  "kernelspec": {
   "display_name": "Python 3",
   "language": "python",
   "name": "python3"
  },
  "language_info": {
   "codemirror_mode": {
    "name": "ipython",
    "version": 3
   },
   "file_extension": ".py",
   "mimetype": "text/x-python",
   "name": "python",
   "nbconvert_exporter": "python",
   "pygments_lexer": "ipython3",
   "version": "3.8.10"
  }
 },
 "nbformat": 4,
 "nbformat_minor": 2
}
