{
 "cells": [
  {
   "cell_type": "code",
   "execution_count": 3,
   "metadata": {},
   "outputs": [
    {
     "name": "stdout",
     "output_type": "stream",
     "text": [
      "dia berkata \"seperti ini\"\n"
     ]
    }
   ],
   "source": [
    "def no1(name):\n",
    "    return \"You are playing chess\" if name[0].lower() == 'r' else \"You are not playing chess\"\n",
    "\n",
    "def no2(string):\n",
    "    return string.count('a') + string.count('i') + string.count('u') + string.count('e') + string.count('o')\n",
    "\n",
    "def no2_alternative(string): \n",
    "    result = 0\n",
    "    for i in \"aiueo\":\n",
    "        print(i)\n",
    "        result += string.count(i)\n",
    "        \n",
    "    return result\n",
    "\n",
    "def no3(list):\n",
    "    return max(list), min(list)\n",
    "\n",
    "def no4(param):\n",
    "    return list(set(param))\n",
    "\n",
    "def no5(list):\n",
    "    return sum([x **2 for x in list]) # List Comprehension"
   ]
  }
 ],
 "metadata": {
  "kernelspec": {
   "display_name": "Python 3",
   "language": "python",
   "name": "python3"
  },
  "language_info": {
   "codemirror_mode": {
    "name": "ipython",
    "version": 3
   },
   "file_extension": ".py",
   "mimetype": "text/x-python",
   "name": "python",
   "nbconvert_exporter": "python",
   "pygments_lexer": "ipython3",
   "version": "3.8.10"
  }
 },
 "nbformat": 4,
 "nbformat_minor": 2
}
