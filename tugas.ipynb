{
 "cells": [
  {
   "cell_type": "code",
   "execution_count": 32,
   "metadata": {},
   "outputs": [
    {
     "name": "stdout",
     "output_type": "stream",
     "text": [
      "Luas segitiga dengan alas 10.0 dan tinggi 7.0 adalah 35.0\n"
     ]
    }
   ],
   "source": [
    "bangun_datar = int(input(\"\"\"\n",
    "      1. Lingkaran\n",
    "      2. Persegi\n",
    "      3. Persegi Panjang\n",
    "      4. Segitiga\n",
    "      Masukan Bangun Datar: \n",
    "      \"\"\"))\n",
    "\n",
    "if bangun_datar == 1:\n",
    "    jari_jari = float(input(\"Masukan jari-jari: \"))\n",
    "    # luas_lingkaran = 22/7 * jari_jari * jari_jari\n",
    "    luas_lingkaran = hitung_lingkaran(jari_jari)\n",
    "    print(\"Luas lingkaran dengan jari-jari\", jari_jari, \"adalah\", luas_lingkaran)\n",
    "elif bangun_datar == 2:\n",
    "    panjang_sisi = float(input(\"Masukan panjang sisi: \"))\n",
    "    luas_persegi = hitung_persegi(panjang_sisi)\n",
    "    print(\"Luas persegi dengan sisi\", panjang_sisi, \"adalah\", luas_persegi)\n",
    "elif bangun_datar == 3:\n",
    "    panjang = float(input(\"Masukan panjang: \"))\n",
    "    lebar = float(input(\"Masukan lebar: \"))\n",
    "    luas_persegi_panjang = hitung_persegi_panjang(panjang, lebar)\n",
    "    print(\"Luas persegi panjang dengan pajang\", panjang, \"dan lebar\", lebar, \"adalah\", luas_persegi_panjang)\n",
    "elif bangun_datar == 4:\n",
    "    alas = float(input(\"Masukan panjang alas: \"))\n",
    "    tinggi = float(input(\"Masukan tinggi: \"))\n",
    "    # luas_segitiga = alas * tinggi / 2\n",
    "    luas_segitiga = hitung_segitiga(alas, tinggi)\n",
    "    print(\"Luas segitiga dengan alas\", alas, \"dan tinggi\", tinggi, \"adalah\", luas_segitiga)"
   ]
  },
  {
   "cell_type": "code",
   "execution_count": 31,
   "metadata": {},
   "outputs": [],
   "source": [
    "# Fungsi / Function\n",
    "\n",
    "# Fungsi menghitung lingkaran\n",
    "def hitung_lingkaran(jari_jari):\n",
    "    return jari_jari * jari_jari * 22/7\n",
    "\n",
    "# Fungsi menghitung Persegi Panjang\n",
    "def hitung_persegi_panjang(panjang, lebar):\n",
    "    return panjang * lebar\n",
    "\n",
    "# Fungsi menghitung Persegi\n",
    "def hitung_persegi(sisi):\n",
    "    return sisi ** 2\n",
    "    \n",
    "# Fungsi menghitung Segitiga\n",
    "def hitung_segitiga(alas, tinggi):\n",
    "    return alas * tinggi / 2"
   ]
  }
 ],
 "metadata": {
  "kernelspec": {
   "display_name": "Python 3",
   "language": "python",
   "name": "python3"
  },
  "language_info": {
   "codemirror_mode": {
    "name": "ipython",
    "version": 3
   },
   "file_extension": ".py",
   "mimetype": "text/x-python",
   "name": "python",
   "nbconvert_exporter": "python",
   "pygments_lexer": "ipython3",
   "version": "3.8.10"
  }
 },
 "nbformat": 4,
 "nbformat_minor": 2
}
