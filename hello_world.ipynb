{
 "cells": [
  {
   "cell_type": "code",
   "execution_count": 1,
   "metadata": {},
   "outputs": [
    {
     "name": "stdout",
     "output_type": "stream",
     "text": [
      "Hello World\n"
     ]
    }
   ],
   "source": [
    "print(\"Hello World\")"
   ]
  },
  {
   "cell_type": "code",
   "execution_count": 12,
   "metadata": {},
   "outputs": [
    {
     "name": "stdout",
     "output_type": "stream",
     "text": [
      "2\n",
      "3.14\n",
      "2.0\n",
      "1000000000000000000\n",
      "-7\n",
      "31400.0\n",
      "3.14\n"
     ]
    }
   ],
   "source": [
    "print(2)\n",
    "print(3.14)\n",
    "print(2.0)\n",
    "print(1_000_000_000_000_000_000)\n",
    "print(-7)\n",
    "\n",
    "print(314e+2)\n",
    "print(314e-2)"
   ]
  },
  {
   "cell_type": "code",
   "execution_count": 13,
   "metadata": {},
   "outputs": [
    {
     "name": "stdout",
     "output_type": "stream",
     "text": [
      "True\n",
      "False\n"
     ]
    }
   ],
   "source": [
    "print(True)\n",
    "print(False)"
   ]
  },
  {
   "cell_type": "code",
   "execution_count": 20,
   "metadata": {},
   "outputs": [
    {
     "name": "stdout",
     "output_type": "stream",
     "text": [
      "Ini adalah String\n",
      "47239\n",
      "\n",
      "      \n",
      "      \n",
      "Ini bisa berparagraf\n",
      "berapapun barisnya\n",
      "      \n"
     ]
    }
   ],
   "source": [
    "print(\"Ini adalah String\")\n",
    "print(\"47239\")\n",
    "print(\"\"\" \n",
    "Ini bisa berparagraf\n",
    "berapapun barisnya\n",
    "      \"\"\")"
   ]
  },
  {
   "cell_type": "code",
   "execution_count": 28,
   "metadata": {},
   "outputs": [
    {
     "name": "stdout",
     "output_type": "stream",
     "text": [
      "YudhaSugiharto\n",
      "Yudha Sugiharto\n"
     ]
    }
   ],
   "source": [
    "nama_depan = \"Yudha\"\n",
    "nama_akhir = \"Sugiharto\"\n",
    "angka = 32.0\n",
    "benar = True\n",
    "\n",
    "print(nama_depan + nama_akhir)\n",
    "print(nama_depan, nama_akhir)"
   ]
  },
  {
   "cell_type": "code",
   "execution_count": 30,
   "metadata": {},
   "outputs": [
    {
     "data": {
      "text/plain": [
       "bool"
      ]
     },
     "execution_count": 30,
     "metadata": {},
     "output_type": "execute_result"
    }
   ],
   "source": [
    "type(nama_depan)\n",
    "type(angka)\n",
    "type(benar)"
   ]
  },
  {
   "cell_type": "code",
   "execution_count": 39,
   "metadata": {},
   "outputs": [
    {
     "ename": "ValueError",
     "evalue": "invalid literal for int() with base 10: 'jfkaofds'",
     "output_type": "error",
     "traceback": [
      "\u001b[1;31m---------------------------------------------------------------------------\u001b[0m",
      "\u001b[1;31mValueError\u001b[0m                                Traceback (most recent call last)",
      "\u001b[1;32mc:\\Users\\MyBook Z Series\\Documents\\DEVELOPMENT\\PYTHON\\belajar-python\\hello_world.ipynb Cell 7\u001b[0m line \u001b[0;36m7\n\u001b[0;32m      <a href='vscode-notebook-cell:/c%3A/Users/MyBook%20Z%20Series/Documents/DEVELOPMENT/PYTHON/belajar-python/hello_world.ipynb#X11sZmlsZQ%3D%3D?line=3'>4</a>\u001b[0m num_float \u001b[39m=\u001b[39m \u001b[39mfloat\u001b[39m(num)  \u001b[39m# Diubah dari float ke int\u001b[39;00m\n\u001b[0;32m      <a href='vscode-notebook-cell:/c%3A/Users/MyBook%20Z%20Series/Documents/DEVELOPMENT/PYTHON/belajar-python/hello_world.ipynb#X11sZmlsZQ%3D%3D?line=4'>5</a>\u001b[0m num_str \u001b[39m=\u001b[39m \u001b[39mstr\u001b[39m(num) \u001b[39m# Diubah dari int ke str\u001b[39;00m\n\u001b[1;32m----> <a href='vscode-notebook-cell:/c%3A/Users/MyBook%20Z%20Series/Documents/DEVELOPMENT/PYTHON/belajar-python/hello_world.ipynb#X11sZmlsZQ%3D%3D?line=6'>7</a>\u001b[0m \u001b[39mint\u001b[39;49m(\u001b[39m\"\u001b[39;49m\u001b[39mjfkaofds\u001b[39;49m\u001b[39m\"\u001b[39;49m)\n",
      "\u001b[1;31mValueError\u001b[0m: invalid literal for int() with base 10: 'jfkaofds'"
     ]
    }
   ],
   "source": [
    "pi = 3.14 # Ini float\n",
    "num = 27 # Ini integer\n",
    "pi_bulat = int(pi) # Diubah dari int ke float\n",
    "num_float = float(num)  # Diubah dari float ke int\n",
    "num_str = str(num) # Diubah dari int ke str"
   ]
  },
  {
   "cell_type": "code",
   "execution_count": 52,
   "metadata": {},
   "outputs": [
    {
     "data": {
      "text/plain": [
       "1024"
      ]
     },
     "execution_count": 52,
     "metadata": {},
     "output_type": "execute_result"
    }
   ],
   "source": [
    "# Operasi Matematika\n",
    "\n",
    "2 + 2\n",
    "3 - 1\n",
    "1 * 5\n",
    "3 / 1\n",
    "3 % 2 # Operasi Modulo\n",
    "2 ** 10"
   ]
  }
 ],
 "metadata": {
  "kernelspec": {
   "display_name": "Python 3",
   "language": "python",
   "name": "python3"
  },
  "language_info": {
   "codemirror_mode": {
    "name": "ipython",
    "version": 3
   },
   "file_extension": ".py",
   "mimetype": "text/x-python",
   "name": "python",
   "nbconvert_exporter": "python",
   "pygments_lexer": "ipython3",
   "version": "3.8.10"
  },
  "orig_nbformat": 4
 },
 "nbformat": 4,
 "nbformat_minor": 2
}
