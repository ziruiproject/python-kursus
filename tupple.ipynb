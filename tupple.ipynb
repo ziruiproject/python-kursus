{
 "cells": [
  {
   "cell_type": "code",
   "execution_count": 14,
   "metadata": {},
   "outputs": [
    {
     "name": "stdout",
     "output_type": "stream",
     "text": [
      "[1, 2, 3]\n",
      "{0, 1, 2, 3}\n"
     ]
    },
    {
     "ename": "KeyError",
     "evalue": "1",
     "output_type": "error",
     "traceback": [
      "\u001b[1;31m---------------------------------------------------------------------------\u001b[0m",
      "\u001b[1;31mKeyError\u001b[0m                                  Traceback (most recent call last)",
      "\u001b[1;32mc:\\Users\\MyBook Z Series\\Documents\\DEVELOPMENT\\PYTHON\\belajar-python\\tupple.ipynb Cell 1\u001b[0m line \u001b[0;36m4\n\u001b[0;32m     <a href='vscode-notebook-cell:/c%3A/Users/MyBook%20Z%20Series/Documents/DEVELOPMENT/PYTHON/belajar-python/tupple.ipynb#W0sZmlsZQ%3D%3D?line=38'>39</a>\u001b[0m \u001b[39m# Menghapus Set\u001b[39;00m\n\u001b[0;32m     <a href='vscode-notebook-cell:/c%3A/Users/MyBook%20Z%20Series/Documents/DEVELOPMENT/PYTHON/belajar-python/tupple.ipynb#W0sZmlsZQ%3D%3D?line=39'>40</a>\u001b[0m \u001b[39mset\u001b[39m\u001b[39m.\u001b[39mremove(\u001b[39m1\u001b[39m)\n\u001b[1;32m---> <a href='vscode-notebook-cell:/c%3A/Users/MyBook%20Z%20Series/Documents/DEVELOPMENT/PYTHON/belajar-python/tupple.ipynb#W0sZmlsZQ%3D%3D?line=40'>41</a>\u001b[0m \u001b[39mset\u001b[39;49m\u001b[39m.\u001b[39;49mremove(\u001b[39m1\u001b[39;49m)\n\u001b[0;32m     <a href='vscode-notebook-cell:/c%3A/Users/MyBook%20Z%20Series/Documents/DEVELOPMENT/PYTHON/belajar-python/tupple.ipynb#W0sZmlsZQ%3D%3D?line=42'>43</a>\u001b[0m \u001b[39mset\u001b[39m\n",
      "\u001b[1;31mKeyError\u001b[0m: 1"
     ]
    }
   ],
   "source": [
    "# KUMPULAN DATA\n",
    "# 4\n",
    "\n",
    "# LIST\n",
    "# TUPPLE\n",
    "# SET\n",
    "# DICTIONARY\n",
    "\n",
    "# LIST VS TUPPLE\n",
    "\n",
    "list = [1, 1, 2,3] # List\n",
    "tuple = (1, 1, 2, 3) # Tupple - > Immutable\n",
    "len(tuple)\n",
    "\n",
    "# Kalo itemnya satu, harus ditambah koma\n",
    "# Kalo ga pake koma, dianggap bukan tuple\n",
    "tuple_satu = (\"buku\",) # tuple\n",
    "tuple_satu_lagi = (\"buku\") # bukan tuple\n",
    "\n",
    "type(tuple)\n",
    "type(tuple_satu)\n",
    "\n",
    "# LIST VS SET\n",
    "list = [1, 2, 3]\n",
    "set = {0, False, 1, True, 2, 3}\n",
    "# 1 = True, dianggap sama\n",
    "# 0 = False, dianggap sama\n",
    "\n",
    "# SET -> TIDAK BERURUTAN\n",
    "#       -> IMMUTABLE\n",
    "#       -> TIDAK BOLEH DUPLIKAT\n",
    "\n",
    "print(list)\n",
    "print(set)\n",
    "\n",
    "# Menambah Set\n",
    "set.add(4)\n",
    "\n",
    "# Menghapus Set\n",
    "set.remove(1)\n",
    "\n",
    "set\n"
   ]
  }
 ],
 "metadata": {
  "kernelspec": {
   "display_name": "Python 3",
   "language": "python",
   "name": "python3"
  },
  "language_info": {
   "codemirror_mode": {
    "name": "ipython",
    "version": 3
   },
   "file_extension": ".py",
   "mimetype": "text/x-python",
   "name": "python",
   "nbconvert_exporter": "python",
   "pygments_lexer": "ipython3",
   "version": "3.8.10"
  }
 },
 "nbformat": 4,
 "nbformat_minor": 2
}
