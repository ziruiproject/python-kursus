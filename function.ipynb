{
 "cells": [
  {
   "cell_type": "code",
   "execution_count": 1,
   "metadata": {},
   "outputs": [
    {
     "name": "stdout",
     "output_type": "stream",
     "text": [
      "25\n"
     ]
    }
   ],
   "source": [
    "angka = 5\n",
    "angka = 35\n",
    "angka = 321\n",
    "angka = 5\n",
    "angka = 5\n",
    "angka = 5\n",
    "angka = 5\n",
    "print(5 ** 2)\n",
    "print(35 ** 2)\n",
    "print(321 ** 2)\n",
    "print(5 ** 2)\n",
    "print(5 ** 2)\n",
    "print(5 ** 2)\n",
    "print(5 ** 2)"
   ]
  },
  {
   "cell_type": "code",
   "execution_count": 9,
   "metadata": {},
   "outputs": [
    {
     "name": "stdout",
     "output_type": "stream",
     "text": [
      "25\n",
      "625\n",
      "25\n"
     ]
    }
   ],
   "source": [
    "def pangkat_dua(angka):\n",
    "    print(angka ** 2)\n",
    "    \n",
    "def pangkat(basis, pangkat = 2): # Dengan default value\n",
    "    print(basis ** pangkat)\n",
    "    \n",
    "# FUNCTION HARUS DI PANGGIL\n",
    "# KALO GA DIPANGGIL GA JALAN\n",
    "\n",
    "pangkat_dua(5) # 5 pangkat 2\n",
    "pangkat(5, 4) # 5 pangkat 4\n",
    "pangkat(5) # 5 pangkat 2"
   ]
  },
  {
   "cell_type": "code",
   "execution_count": 12,
   "metadata": {},
   "outputs": [
    {
     "data": {
      "text/plain": [
       "16"
      ]
     },
     "execution_count": 12,
     "metadata": {},
     "output_type": "execute_result"
    }
   ],
   "source": [
    "# RETURN VALUE\n",
    "\n",
    "def pangkat_lagi(x):\n",
    "    return x ** 2\n",
    "\n",
    "# Menyimpan nilai dari function\n",
    "result = pangkat_lagi(4)\n",
    "\n",
    "result"
   ]
  }
 ],
 "metadata": {
  "kernelspec": {
   "display_name": "Python 3",
   "language": "python",
   "name": "python3"
  },
  "language_info": {
   "codemirror_mode": {
    "name": "ipython",
    "version": 3
   },
   "file_extension": ".py",
   "mimetype": "text/x-python",
   "name": "python",
   "nbconvert_exporter": "python",
   "pygments_lexer": "ipython3",
   "version": "3.8.10"
  }
 },
 "nbformat": 4,
 "nbformat_minor": 2
}
